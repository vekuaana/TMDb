{
 "cells": [
  {
   "cell_type": "markdown",
   "id": "6bd231b3",
   "metadata": {},
   "source": [
    "# The Movie Database Extraction with API\n",
    "\n",
    "Extraction of All movies from the movie database (TMDb) for analysis. \n",
    "\n",
    "Documentation: https://developers.themoviedb.org/3/getting-started/introduction"
   ]
  },
  {
   "cell_type": "markdown",
   "id": "ae6a1daa",
   "metadata": {},
   "source": [
    "### TMDb API"
   ]
  },
  {
   "cell_type": "code",
   "execution_count": 8,
   "id": "d7ed7d1c",
   "metadata": {},
   "outputs": [],
   "source": [
    "import requests\n",
    "import json\n",
    "import pandas as pd"
   ]
  },
  {
   "cell_type": "code",
   "execution_count": 23,
   "id": "055ae24f",
   "metadata": {},
   "outputs": [],
   "source": [
    "api_key = \"6a7a1d7c72791b60828e797ae72b8a50\" #the API personal key\n",
    "\n",
    "total_movies_to_retrieve = 10000 # The number of movies you want to retrieve\n",
    "movies_per_page = 20 # Retrieve 20 movies per page\n",
    "max_page_number = 1000 # The maximum number of pages we go through \n",
    "current_movie_count = 0 # How many movies are retrieved currently\n",
    "list_movies_details = [] # List to strore movies with their details "
   ]
  },
  {
   "cell_type": "code",
   "execution_count": null,
   "id": "76766a37",
   "metadata": {},
   "outputs": [],
   "source": [
    "api_key = \"6a7a1d7c72791b60828e797ae72b8a50\" #the API personal key\n",
    "\n",
    "total_movies_to_retrieve = 10000 # The number of movies you want to retrieve\n",
    "movies_per_page = 20 # Retrieve 20 movies per page\n",
    "max_page_number = 1000 # The maximum number of pages we go through \n",
    "current_movie_count = 0 # How many movies are retrieved currently\n",
    "list_movies_details = [] # List to strore movies with their details \n",
    "# We go through each pages\n",
    "for page_number in range (1, max_page_number):\n",
    "    \n",
    "    # Break if the wanted number of movies retrieved is reached\n",
    "    if current_movie_count >= total_movies_to_retrieve:\n",
    "        break\n",
    "    \n",
    "    url = \"https://api.themoviedb.org/3/movie/top_rated?api_key=\" + api_key + \"&language=en-US&page=\" + str(page_number)\n",
    " \n",
    "    # Make the API request and parse the JSON response\n",
    "    response = requests.get(url)\n",
    "    movie_data = json.loads(response.text)\n",
    "    \n",
    "    # For each movies of the page, retrieve their details and store them in the list\n",
    "    for movie in movie_data['results']:\n",
    "        id = movie['id']\n",
    "        url_2 = \"https://api.themoviedb.org/3/movie/\" + str(id) + \"?api_key=\" + api_key  \n",
    "        \n",
    "        response_2 = requests.get(url_2)\n",
    "        movie_detail = json.loads(response_2.text)\n",
    "        \n",
    "        list_movies_details.append(movie_detail)\n",
    "    current_movie_count = len(list_movies_details)  \n",
    "\n",
    "# Print the number of movies retrieved\n",
    "print(\"Retrieved\", len(list_movies_details), \"movies.\")\n"
   ]
  },
  {
   "cell_type": "code",
   "execution_count": 29,
   "id": "e55d9c52",
   "metadata": {},
   "outputs": [],
   "source": [
    "movie_df = pd.DataFrame(list_movies_details) # Convert movies_list to a dataframe"
   ]
  },
  {
   "cell_type": "code",
   "execution_count": null,
   "id": "0a5a7f17",
   "metadata": {},
   "outputs": [],
   "source": [
    "movie_df # Check the result"
   ]
  }
 ],
 "metadata": {
  "kernelspec": {
   "display_name": "Python 3 (ipykernel)",
   "language": "python",
   "name": "python3"
  },
  "language_info": {
   "codemirror_mode": {
    "name": "ipython",
    "version": 3
   },
   "file_extension": ".py",
   "mimetype": "text/x-python",
   "name": "python",
   "nbconvert_exporter": "python",
   "pygments_lexer": "ipython3",
   "version": "3.9.13"
  }
 },
 "nbformat": 4,
 "nbformat_minor": 5
}
